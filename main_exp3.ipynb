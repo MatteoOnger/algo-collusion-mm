{
  "cells": [
    {
      "cell_type": "markdown",
      "metadata": {
        "colab_type": "text",
        "id": "view-in-github"
      },
      "source": [
        "<a href=\"https://colab.research.google.com/github/MatteoOnger/algo-collusion-mm/blob/main/main.ipynb\" target=\"_parent\"><img src=\"https://colab.research.google.com/assets/colab-badge.svg\" alt=\"Open In Colab\"/></a>"
      ]
    },
    {
      "cell_type": "markdown",
      "metadata": {
        "id": "EMTOP3utEbcK"
      },
      "source": [
        "# Algorithmic Collusion in Market Making - EXP3"
      ]
    },
    {
      "cell_type": "markdown",
      "metadata": {
        "id": "CGZMs7D1J3fF"
      },
      "source": [
        "A notebook testing various EXP3 agents implementing market-making strategies in the Glosten-Milgrom environment."
      ]
    },
    {
      "cell_type": "markdown",
      "metadata": {
        "id": "FxmHCO7rFONX"
      },
      "source": [
        "## Notebook Initialization"
      ]
    },
    {
      "cell_type": "markdown",
      "metadata": {
        "id": "DResD4xyGhBX"
      },
      "source": [
        "### Colab Environment Setup"
      ]
    },
    {
      "cell_type": "code",
      "execution_count": null,
      "metadata": {
        "id": "UOP-nvvbEYvD"
      },
      "outputs": [],
      "source": [
        "# Do NOT run this cell in local environment - it's intended for Google Colab only.\n",
        "\n",
        "# Clone GitHub repository\n",
        "!git clone https://github.com/MatteoOnger/algo-collusion-mm.git\n",
        "\n",
        "# Install dependencies\n",
        "!pip install --quiet -r /content/algo-collusion-mm/requirements.txt\n",
        "\n",
        "# Set working directory\n",
        "%cd /content/algo-collusion-mm"
      ]
    },
    {
      "cell_type": "markdown",
      "metadata": {
        "id": "udKsn5GQHHt_"
      },
      "source": [
        "### Local Environment Setup"
      ]
    },
    {
      "cell_type": "code",
      "execution_count": 1,
      "metadata": {
        "id": "XOKNp7tDFKHo"
      },
      "outputs": [],
      "source": [
        "# Do NOT run this cell in Google Colab - it's intended for local Jupyter Notebooks only.\n",
        "\n",
        "# Autoreload imports\n",
        "%load_ext autoreload\n",
        "%autoreload 2\n",
        "\n",
        "# Select interactive backend for matplotlib\n",
        "%matplotlib widget"
      ]
    },
    {
      "cell_type": "markdown",
      "metadata": {
        "id": "_1Ulv9GBHZaH"
      },
      "source": [
        "## Main Execution"
      ]
    },
    {
      "cell_type": "code",
      "execution_count": 2,
      "metadata": {
        "id": "gxDHqYnXrDzE"
      },
      "outputs": [],
      "source": [
        "import json\n",
        "import numpy as np\n",
        "import time\n",
        "\n",
        "import src.utils.plots as plots\n",
        "import src.utils.storage as storage\n",
        "\n",
        "from datetime import datetime\n",
        "\n",
        "from src.agents.agent import Agent\n",
        "from src.agents.makers.exp3 import MakerEXP3\n",
        "from src.agents.traders.nopass import NoPassTrader\n",
        "from src.envs import GMEnv\n",
        "from src.utils.stats import OnlineVectorStats"
      ]
    },
    {
      "cell_type": "code",
      "execution_count": 3,
      "metadata": {
        "id": "j3GakIjfrFfE"
      },
      "outputs": [],
      "source": [
        "def split_array(arr: np.ndarray, window_size: int) -> np.ndarray:\n",
        "    \"\"\"\n",
        "    Split an array into sub-arrays of fixed window size along the last axis.\n",
        "\n",
        "    If `window_size` is non-positive, the array is reshaped so that the last\n",
        "    axis becomes a single window of length equal to its size.\n",
        "    This is useful, for example, to ensure a consistent 3D shape\n",
        "    when no actual splitting is performed.\n",
        "\n",
        "    Parameters\n",
        "    ----------\n",
        "    arr : np.ndarray\n",
        "        Input array to be split.\n",
        "    window_size : int\n",
        "        Size of each window. Must be a positive integer.\n",
        "        If <= 0, the array is reshaped to (..., 1, N), where N is the\n",
        "        original length of the last axis.\n",
        "\n",
        "    Returns\n",
        "    -------\n",
        "    : np.ndarray\n",
        "        Reshaped array with shape (..., n_windows, window_size).\n",
        "        If `window_size <= 0`, returns the original array.\n",
        "\n",
        "    Raises\n",
        "    ------\n",
        "    ValueError\n",
        "        If `window_size` is not a divisor of the length of the last axis.\n",
        "    \"\"\"\n",
        "    if window_size <= 0:\n",
        "        return arr.reshape(arr.shape[:-1] + (1, -1))\n",
        "    return arr.reshape(arr.shape[:-1] + (-1, window_size))\n",
        "\n",
        "\n",
        "def get_calvano_collusion_index(rewards: np.ndarray, nash_reward: float, coll_reward: float, window_size: int = 0) -> np.ndarray:\n",
        "    \"\"\"\n",
        "    Compute the Calvano Collusion Index (CCI) from agent rewards.\n",
        "\n",
        "    The CCI measures the degree of collusion relative to Nash equilibrium\n",
        "    and perfect collusion benchmarks. Rewards are optionally aggregated\n",
        "    over fixed-size windows before computing the index.\n",
        "\n",
        "    Parameters\n",
        "    ----------\n",
        "    rewards : np.ndarray\n",
        "        Array of shape (n_agents, n_episodes) containing per-agent rewards.\n",
        "    nash_reward : float\n",
        "        Benchmark reward under Nash equilibrium (total across all agents).\n",
        "    coll_reward : float\n",
        "        Benchmark reward under perfect collusion (total across all agents).\n",
        "    window_size : int, default=0\n",
        "        Size of the episode window for reward aggregation.\n",
        "        If 0, no windowing is applied.\n",
        "\n",
        "    Returns\n",
        "    -------\n",
        "    : np.ndarray\n",
        "        Array of CCI values per agent and per window.\n",
        "\n",
        "    See Also\n",
        "    --------\n",
        "    - Calvano, E., Calzolari, G., Denicolò, V., & Pastorello, S. (2020).\n",
        "    Artificial intelligence, algorithmic pricing, and collusion.\n",
        "    *American Economic Review, 110*(10), 3267–3297.\n",
        "    https://doi.org/10.1257/aer.20190623\n",
        "    \"\"\"\n",
        "    nash_reward /= len(rewards)\n",
        "    coll_reward /= len(rewards)\n",
        "\n",
        "    rewards = split_array(rewards, window_size)\n",
        "    avg_rewards = rewards.mean(axis=-1)\n",
        "\n",
        "    cci = (avg_rewards - nash_reward) / (coll_reward - nash_reward)\n",
        "    return cci"
      ]
    },
    {
      "cell_type": "markdown",
      "metadata": {},
      "source": [
        "### Load Agents"
      ]
    },
    {
      "cell_type": "code",
      "execution_count": null,
      "metadata": {},
      "outputs": [],
      "source": [
        "saver = storage.ExperimentStorage('./experiments')\n",
        "\n",
        "objects = saver.load_objects('experiments/exp3/experiment_012_20251002_101621')\n",
        "print(f'Objects loaded: {list(objects.keys())}')"
      ]
    },
    {
      "cell_type": "markdown",
      "metadata": {},
      "source": [
        "### Multiple Runs"
      ]
    },
    {
      "cell_type": "code",
      "execution_count": null,
      "metadata": {
        "id": "80Oq4lNWrKcl"
      },
      "outputs": [],
      "source": [
        "r = 10           # Number of experiments\n",
        "n = 10_000       # Number of episodes\n",
        "w = 50           # Window size\n",
        "k = n // w       # Number of windows\n",
        "\n",
        "nash_reward = 0.1   # Nash reward\n",
        "coll_reward = 0.5   # Collusive reward\n",
        "\n",
        "# Prices and action space of the market makers\n",
        "action_space = np.array([[0., 0.], [.6, .4], [1., 0.]])\n",
        "\n",
        "# To save experimental results\n",
        "saver = storage.ExperimentStorage('.7experiments/prova')\n",
        "# To compute online statistics\n",
        "stats_cci = OnlineVectorStats(2)\n",
        "\n",
        "start_time = time.time()\n",
        "current_time = datetime.now().strftime('%Y-%m-%d %H:%M:%S')\n",
        "saver.print_and_save(f'Started at {current_time}')\n",
        "\n",
        "for i in range(r):\n",
        "    if i % 10 == 0:\n",
        "        saver.print_and_save(f'Running {i} ...')\n",
        "\n",
        "    agents: dict[str, Agent] = {\n",
        "        'maker_u_0': MakerEXP3(epsilon=MakerEXP3.compute_epsilon(len(action_space), n), action_space=action_space, name='maker_u_0'),\n",
        "        'maker_u_1': MakerEXP3(epsilon=MakerEXP3.compute_epsilon(len(action_space), n), action_space=action_space, name='maker_u_1'),\n",
        "        'trader_0': NoPassTrader(name='trader_0'),\n",
        "    }\n",
        "\n",
        "    env = GMEnv(\n",
        "        generate_vt = lambda: 0.5,\n",
        "        n_episodes = n,\n",
        "        n_makers_u = 2,\n",
        "        n_makers_i = 0,\n",
        "        n_traders = 1,\n",
        "    )\n",
        "\n",
        "    _, info = env.reset()\n",
        "\n",
        "    for agent in env.agent_iter():\n",
        "        action = agents[agent].act(env.observe(agent))\n",
        "        _, rewards, _, _, infos = env.step(action)\n",
        "\n",
        "        if infos['episode_finished']:\n",
        "            for a in env.possible_agents:\n",
        "                agents[a].update(rewards[a], infos[a])\n",
        "\n",
        "    cci = get_calvano_collusion_index(\n",
        "        np.array([agent.history.get_rewards() for name, agent in agents.items() if name in env.makers]),\n",
        "        nash_reward = nash_reward,\n",
        "        coll_reward = coll_reward,\n",
        "        window_size = w\n",
        "    )\n",
        "\n",
        "    info = {\n",
        "        'parmas' : {\n",
        "            'n_episodes' : n,\n",
        "            'window_size' : w,\n",
        "            'action_space' : str(action_space).replace('\\n', ','),\n",
        "            'agent_type' : [agent.__class__.__name__ for agent in agents.values()],\n",
        "        },\n",
        "        'most_common_action' : {\n",
        "            n//w : {name : str(agent.history.compute_most_common(slice(-w, None))) for name, agent in agents.items() if name in env.makers}\n",
        "        },\n",
        "        'cumulative_rewards' : {\n",
        "            0  : {name : round(float(agent.history.get_rewards(slice(0, w)).sum()), 3) for name, agent in agents.items()},\n",
        "            n//w : {name : round(float(agent.history.get_rewards(slice(-w, None)).sum()), 3) for name, agent in agents.items()},\n",
        "            'global' : env.cumulative_rewards\n",
        "        },\n",
        "        'cci' : {\n",
        "            0  : {name : round(float(cci[idx, 0]), 3) for idx, name in enumerate(env.makers)},\n",
        "            n//w  : {name : round(float(cci[idx, -1]), 3) for idx, name in enumerate(env.makers)},\n",
        "            'global' : {name : round(float(cci[idx, :].mean()), 3) for idx, name in enumerate(env.makers)},\n",
        "        },\n",
        "        'seed' : {\n",
        "            name : agent._seed for name, agent in agents.items()\n",
        "        }\n",
        "    }\n",
        "\n",
        "    stats_cci.update(cci[:, -1])\n",
        "    dir = saver.save_objects([env] + list(agents.values()), info=info)\n",
        "\n",
        "    saver.print_and_save(f'{i:03} {\"*\" if cci[0, -1] >= 0.9 or cci[1, -1] >= 0.9 else \" \"} -> CCI:{info[\"cci\"][n//w]}'.ljust(60) + f' ({dir})')\n",
        "\n",
        "\n",
        "end_time = time.time()\n",
        "execution_time = end_time - start_time\n",
        "current_time = datetime.now().strftime('%Y-%m-%d %H:%M:%S')\n",
        "saver.print_and_save(f'Done at {current_time} | Execution time: {execution_time:.2f} seconds')\n",
        "\n",
        "saver.print_and_save(\n",
        "    f'Results:\\n'\n",
        "    f'- [CCI] Average in the last window: {np.round(stats_cci.get_mean(), 4)}\\n'\n",
        "    f'- [CCI] Standard deviation in the last window: {np.round(stats_cci.get_std(), 4)}'\n",
        ")"
      ]
    },
    {
      "cell_type": "markdown",
      "metadata": {},
      "source": [
        "### Single Run"
      ]
    },
    {
      "cell_type": "code",
      "execution_count": 8,
      "metadata": {},
      "outputs": [],
      "source": [
        "saver = storage.ExperimentStorage('./experiments/prova')"
      ]
    },
    {
      "cell_type": "code",
      "execution_count": null,
      "metadata": {},
      "outputs": [],
      "source": [
        "n = 10_000       # Number of episodes\n",
        "w = 50           # Window size\n",
        "k = n // w       # Number of windows\n",
        "\n",
        "nash_reward = 0.1  # Nash reward\n",
        "coll_reward = 0.5  # Collusive reward\n",
        "\n",
        "counter = 0        # Number of episodes done\n",
        "\n",
        "# Prices and action space of the market makers\n",
        "action_space = np.array([[0.0, 0.0], [.6, .4], [1., 0.]])\n",
        "\n",
        "agents: dict[str, Agent] = {\n",
        "    'maker_u_0': MakerEXP3(epsilon=MakerEXP3.compute_epsilon(len(action_space), n), action_space=action_space, name='maker_u_0'),\n",
        "    'maker_u_1': MakerEXP3(epsilon=MakerEXP3.compute_epsilon(len(action_space), n), action_space=action_space, name='maker_u_1'),\n",
        "    'trader_0': NoPassTrader(name='trader_0'),\n",
        "}\n",
        "\n",
        "env = GMEnv(\n",
        "    generate_vt = lambda: 0.5,\n",
        "    n_episodes = n,\n",
        "    n_makers_u = 2,\n",
        "    n_makers_i = 0,\n",
        "    n_traders = 1,\n",
        ")\n",
        "\n",
        "start_time = time.time()\n",
        "current_time = datetime.now().strftime('%Y-%m-%d %H:%M:%S')\n",
        "print(f'Started at {current_time}')\n",
        "\n",
        "_, info = env.reset()\n",
        "for agent in env.agent_iter():\n",
        "    action = agents[agent].act(env.observe(agent))\n",
        "    _, rewards, _, _, infos = env.step(action)\n",
        "\n",
        "    if infos['episode_finished']:\n",
        "        if counter % 10_000 == 0:\n",
        "            print(f'Running episode {counter} ...')\n",
        "\n",
        "        for a in env.possible_agents:\n",
        "            if a in env.makers and counter % (k//5) == 0:\n",
        "                agents[a].history.record_extra(agents[a].weights.copy())\n",
        "            \n",
        "            agents[a].update(rewards[a], infos[a])\n",
        "    \n",
        "        counter += 1\n",
        "\n",
        "end_time = time.time()\n",
        "execution_time = end_time - start_time\n",
        "current_time = datetime.now().strftime('%Y-%m-%d %H:%M:%S')\n",
        "print(f'Done at {current_time} | Execution time: {execution_time:.2f} seconds')\n",
        "\n",
        "cci = get_calvano_collusion_index(\n",
        "    np.array([agent.history.get_rewards() for name, agent in agents.items() if name in env.makers]),\n",
        "    nash_reward = nash_reward,\n",
        "    coll_reward = coll_reward,\n",
        "    window_size = w\n",
        ")\n",
        "\n",
        "info = {\n",
        "    'parmas' : {\n",
        "        'n_episodes' : n,\n",
        "        'window_size' : w,\n",
        "        'action_space' : str(action_space).replace('\\n', ','),\n",
        "        'agent_type' : [agent.__class__.__name__ for agent in agents.values()],\n",
        "    },\n",
        "    'most_common_action' : {\n",
        "        n//w : {name : str(agent.history.compute_most_common(slice(-w, None))) for name, agent in agents.items() if name in env.makers}\n",
        "    },\n",
        "    'cumulative_rewards' : {\n",
        "        0  : {name : round(float(agent.history.get_rewards(slice(0, w)).sum()), 3) for name, agent in agents.items()},\n",
        "        n//w : {name : round(float(agent.history.get_rewards(slice(-w, None)).sum()), 3) for name, agent in agents.items()},\n",
        "        'global' : env.cumulative_rewards\n",
        "    },\n",
        "    'cci' : {\n",
        "        0  : {name : round(float(cci[idx, 0]), 3) for idx, name in enumerate(env.makers)},\n",
        "        n//w  : {name : round(float(cci[idx, -1]), 3) for idx, name in enumerate(env.makers)},\n",
        "        'global' : {name : round(float(cci[idx, :].mean()), 3) for idx, name in enumerate(env.makers)},\n",
        "    },\n",
        "    'seed' : {\n",
        "        name : agent._seed for name, agent in agents.items()\n",
        "    }\n",
        "}\n",
        "\n",
        "fig = plots.plot_all(\n",
        "    window_size = w,\n",
        "    makers = {name:agent for name, agent in agents.items() if name in env.makers},\n",
        "    cci = cci,\n",
        "    makers_belif = {name:agent.weights for name, agent in agents.items() if name in env.makers},\n",
        "    nash_reward = nash_reward,\n",
        "    coll_reward = coll_reward\n",
        ")\n",
        "\n",
        "dir =  saver.save_objects([env] + list(agents.values()), fig, info)\n",
        "\n",
        "print(json.dumps(info, indent=2))\n",
        "display(fig)\n",
        "print(dir)"
      ]
    },
    {
      "cell_type": "markdown",
      "metadata": {},
      "source": [
        "### Additional Plots"
      ]
    },
    {
      "cell_type": "markdown",
      "metadata": {},
      "source": []
    }
  ],
  "metadata": {
    "colab": {
      "authorship_tag": "ABX9TyOmfK9UlpCsbmt8VYJqHDlz",
      "collapsed_sections": [
        "DResD4xyGhBX",
        "udKsn5GQHHt_"
      ],
      "include_colab_link": true,
      "provenance": []
    },
    "kernelspec": {
      "display_name": "rlvenv",
      "language": "python",
      "name": "python3"
    },
    "language_info": {
      "codemirror_mode": {
        "name": "ipython",
        "version": 3
      },
      "file_extension": ".py",
      "mimetype": "text/x-python",
      "name": "python",
      "nbconvert_exporter": "python",
      "pygments_lexer": "ipython3",
      "version": "3.12.11"
    }
  },
  "nbformat": 4,
  "nbformat_minor": 0
}
